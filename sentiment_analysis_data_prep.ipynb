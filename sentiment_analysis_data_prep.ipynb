{
 "cells": [
  {
   "cell_type": "code",
   "execution_count": 4,
   "metadata": {},
   "outputs": [],
   "source": [
    "import os\n",
    "import pandas as pd\n",
    "from transformers import BertTokenizer, TFBertForSequenceClassification\n",
    "import tensorflow as tf\n",
    "import glob\n",
    "import copy\n",
    "import re\n",
    "import string\n",
    "\n",
    "from nltk.corpus import stopwords\n",
    "stoplist = set(stopwords.words(\"english\"))\n",
    "\n",
    "from sklearn.model_selection import train_test_split\n",
    "import tensorflow as tf"
   ]
  },
  {
   "attachments": {},
   "cell_type": "markdown",
   "metadata": {},
   "source": [
    "# Import text file"
   ]
  },
  {
   "cell_type": "code",
   "execution_count": 2,
   "metadata": {},
   "outputs": [
    {
     "name": "stdout",
     "output_type": "stream",
     "text": [
      "['D:\\\\Coding\\\\Twitter_Sentimental_Analysis\\\\Training_Data\\\\SemEval2017-task4-dev.subtask-A.english.INPUT.txt', 'D:\\\\Coding\\\\Twitter_Sentimental_Analysis\\\\Training_Data\\\\SemEval2017-task4-dev.subtask-BD.english.INPUT.txt', 'D:\\\\Coding\\\\Twitter_Sentimental_Analysis\\\\Training_Data\\\\SemEval2017-task4-dev.subtask-CE.english.INPUT.txt', 'D:\\\\Coding\\\\Twitter_Sentimental_Analysis\\\\Training_Data\\\\twitter-2013dev-A.txt', 'D:\\\\Coding\\\\Twitter_Sentimental_Analysis\\\\Training_Data\\\\twitter-2013test-A.txt', 'D:\\\\Coding\\\\Twitter_Sentimental_Analysis\\\\Training_Data\\\\twitter-2013train-A.txt', 'D:\\\\Coding\\\\Twitter_Sentimental_Analysis\\\\Training_Data\\\\twitter-2014sarcasm-A.txt', 'D:\\\\Coding\\\\Twitter_Sentimental_Analysis\\\\Training_Data\\\\twitter-2014test-A.txt', 'D:\\\\Coding\\\\Twitter_Sentimental_Analysis\\\\Training_Data\\\\twitter-2015test-A.txt', 'D:\\\\Coding\\\\Twitter_Sentimental_Analysis\\\\Training_Data\\\\twitter-2015testBD.txt', 'D:\\\\Coding\\\\Twitter_Sentimental_Analysis\\\\Training_Data\\\\twitter-2015train-A.txt', 'D:\\\\Coding\\\\Twitter_Sentimental_Analysis\\\\Training_Data\\\\twitter-2015train-BD.txt', 'D:\\\\Coding\\\\Twitter_Sentimental_Analysis\\\\Training_Data\\\\twitter-2016dev-A.txt', 'D:\\\\Coding\\\\Twitter_Sentimental_Analysis\\\\Training_Data\\\\twitter-2016dev-BD.txt', 'D:\\\\Coding\\\\Twitter_Sentimental_Analysis\\\\Training_Data\\\\twitter-2016dev-CE.txt', 'D:\\\\Coding\\\\Twitter_Sentimental_Analysis\\\\Training_Data\\\\twitter-2016devtest-A.txt', 'D:\\\\Coding\\\\Twitter_Sentimental_Analysis\\\\Training_Data\\\\twitter-2016devtest-BD.txt', 'D:\\\\Coding\\\\Twitter_Sentimental_Analysis\\\\Training_Data\\\\twitter-2016devtest-CE.txt', 'D:\\\\Coding\\\\Twitter_Sentimental_Analysis\\\\Training_Data\\\\twitter-2016test-A.txt', 'D:\\\\Coding\\\\Twitter_Sentimental_Analysis\\\\Training_Data\\\\twitter-2016test-BD.txt', 'D:\\\\Coding\\\\Twitter_Sentimental_Analysis\\\\Training_Data\\\\twitter-2016test-CE.txt', 'D:\\\\Coding\\\\Twitter_Sentimental_Analysis\\\\Training_Data\\\\twitter-2016train-A.txt', 'D:\\\\Coding\\\\Twitter_Sentimental_Analysis\\\\Training_Data\\\\twitter-2016train-BD.txt', 'D:\\\\Coding\\\\Twitter_Sentimental_Analysis\\\\Training_Data\\\\twitter-2016train-CE.txt']\n"
     ]
    }
   ],
   "source": [
    "# absolute path to search all text files inside the folder\n",
    "path = r'D:\\Coding\\Twitter_Sentimental_Analysis\\Training_Data/*.txt'\n",
    "files = glob.glob(path)\n",
    "print(files)"
   ]
  },
  {
   "cell_type": "code",
   "execution_count": 3,
   "metadata": {},
   "outputs": [],
   "source": [
    "# Create a new dictionary and loop all text files as dataframes into it\n",
    "dataframes = {}\n",
    "\n",
    "for i, file in enumerate(files):\n",
    "    df = pd.read_csv(files[i], delimiter = \"\\t\", header=None)\n",
    "    dataframes[i] = df\n",
    "\n",
    "word_list = [\n",
    "    \"neutral\",\n",
    "    \"negative\",\n",
    "    \"-1\",\n",
    "    \"positive\",\n",
    "    \"0\",\n",
    "    \"1\"]"
   ]
  },
  {
   "cell_type": "code",
   "execution_count": 4,
   "metadata": {},
   "outputs": [
    {
     "name": "stderr",
     "output_type": "stream",
     "text": [
      "C:\\Users\\amito\\AppData\\Local\\Temp\\ipykernel_16936\\2705102758.py:13: FutureWarning: The frame.append method is deprecated and will be removed from pandas in a future version. Use pandas.concat instead.\n",
      "  train_df = train_df.append(temp_df, ignore_index=True)\n"
     ]
    }
   ],
   "source": [
    "# Create an empty DataFrame\n",
    "train_df = pd.DataFrame(columns=['Sentiment', 'Text'])\n",
    "\n",
    "# Loop through all dataframes, and only take the column with sentiment and text!!\n",
    "for i in range(len(dataframes)):\n",
    "    for index, value in enumerate(dataframes[i].iloc[0,:]):\n",
    "        if str(value) in word_list:\n",
    "            \n",
    "            # Create a temporary DataFrame with the two Series\n",
    "            temp_df = pd.DataFrame({'Sentiment': dataframes[i].iloc[:,index], 'Text': dataframes[i].iloc[:,index+1]})\n",
    "\n",
    "            # Append the temporary DataFrame to the original DataFrame\n",
    "            train_df = train_df.append(temp_df, ignore_index=True)\n"
   ]
  },
  {
   "cell_type": "code",
   "execution_count": 5,
   "metadata": {},
   "outputs": [],
   "source": [
    "# Save the DataFrame as a CSV file for viewing\n",
    "train_df.to_csv('train_df.csv', sep=' ', index=False)"
   ]
  },
  {
   "cell_type": "code",
   "execution_count": null,
   "metadata": {},
   "outputs": [],
   "source": [
    "for index, row_value in enumerate(train_df['Sentiment']):\n",
    "    # print(index)\n",
    "    try:\n",
    "        # Check the value and perform operations accordingly\n",
    "        if row_value == 'positive' or str(row_value) == str(2) or row_value == 2:\n",
    "            train_df.at[index, 'Sentiment'] = 1\n",
    "        elif row_value == 'negative' or str(row_value) == str(-2) or row_value == -2:\n",
    "            train_df.at[index, 'Sentiment'] = -1\n",
    "        elif row_value == 'neutral' or row_value == 0 or str(row_value) == str(0) or row_value == 'off topic':\n",
    "            train_df = train_df.drop(index)\n",
    "    except KeyError:\n",
    "        print(\"INDEX: \", str(index))\n"
   ]
  },
  {
   "cell_type": "code",
   "execution_count": 7,
   "metadata": {},
   "outputs": [],
   "source": [
    "# Save the DataFrame as a CSV file for viewing\n",
    "train_df.to_csv('train_df_sentiment_all_numbers.csv', sep=' ', index=False)"
   ]
  },
  {
   "cell_type": "code",
   "execution_count": 5,
   "metadata": {},
   "outputs": [],
   "source": [
    "# Load saved csv to df\n",
    "train_df = pd.read_csv('train_df_sentiment_all_numbers.csv', sep=' ')"
   ]
  },
  {
   "attachments": {},
   "cell_type": "markdown",
   "metadata": {},
   "source": [
    "# Pre-processing text"
   ]
  },
  {
   "cell_type": "code",
   "execution_count": 6,
   "metadata": {},
   "outputs": [
    {
     "data": {
      "text/html": [
       "<div>\n",
       "<style scoped>\n",
       "    .dataframe tbody tr th:only-of-type {\n",
       "        vertical-align: middle;\n",
       "    }\n",
       "\n",
       "    .dataframe tbody tr th {\n",
       "        vertical-align: top;\n",
       "    }\n",
       "\n",
       "    .dataframe thead th {\n",
       "        text-align: right;\n",
       "    }\n",
       "</style>\n",
       "<table border=\"1\" class=\"dataframe\">\n",
       "  <thead>\n",
       "    <tr style=\"text-align: right;\">\n",
       "      <th></th>\n",
       "      <th>Sentiment</th>\n",
       "      <th>Text</th>\n",
       "    </tr>\n",
       "  </thead>\n",
       "  <tbody>\n",
       "    <tr>\n",
       "      <th>0</th>\n",
       "      <td>-1</td>\n",
       "      <td>If these runway renovations at the airport pre...</td>\n",
       "    </tr>\n",
       "    <tr>\n",
       "      <th>1</th>\n",
       "      <td>-1</td>\n",
       "      <td>@twats0n what are you some stupid Twilight vam...</td>\n",
       "    </tr>\n",
       "    <tr>\n",
       "      <th>2</th>\n",
       "      <td>-1</td>\n",
       "      <td>@maricruzannette first time I heard of \"twilig...</td>\n",
       "    </tr>\n",
       "    <tr>\n",
       "      <th>3</th>\n",
       "      <td>-1</td>\n",
       "      <td>@TerryGilliam Sat my daughter down and we watc...</td>\n",
       "    </tr>\n",
       "    <tr>\n",
       "      <th>4</th>\n",
       "      <td>-1</td>\n",
       "      <td>@FoxNews This administratio is living in the t...</td>\n",
       "    </tr>\n",
       "  </tbody>\n",
       "</table>\n",
       "</div>"
      ],
      "text/plain": [
       "   Sentiment                                               Text\n",
       "0         -1  If these runway renovations at the airport pre...\n",
       "1         -1  @twats0n what are you some stupid Twilight vam...\n",
       "2         -1  @maricruzannette first time I heard of \"twilig...\n",
       "3         -1  @TerryGilliam Sat my daughter down and we watc...\n",
       "4         -1  @FoxNews This administratio is living in the t..."
      ]
     },
     "execution_count": 6,
     "metadata": {},
     "output_type": "execute_result"
    }
   ],
   "source": [
    "train_df = train_df.sort_values(by=['Sentiment'])\n",
    "train_df = train_df.reset_index()\n",
    "train_df = train_df.drop(columns = ['index'])\n",
    "train_df.head()"
   ]
  },
  {
   "cell_type": "code",
   "execution_count": 7,
   "metadata": {},
   "outputs": [
    {
     "data": {
      "text/plain": [
       " 1    71986\n",
       "-1    23420\n",
       "Name: Sentiment, dtype: int64"
      ]
     },
     "execution_count": 7,
     "metadata": {},
     "output_type": "execute_result"
    }
   ],
   "source": [
    "train_df['Sentiment'].value_counts()"
   ]
  },
  {
   "cell_type": "code",
   "execution_count": 8,
   "metadata": {},
   "outputs": [],
   "source": [
    "balanced_train_df = copy.deepcopy(train_df[0:23420*2])"
   ]
  },
  {
   "cell_type": "code",
   "execution_count": 9,
   "metadata": {},
   "outputs": [
    {
     "data": {
      "text/plain": [
       "-1    23420\n",
       " 1    23420\n",
       "Name: Sentiment, dtype: int64"
      ]
     },
     "execution_count": 9,
     "metadata": {},
     "output_type": "execute_result"
    }
   ],
   "source": [
    "balanced_train_df['Sentiment'].value_counts()"
   ]
  },
  {
   "attachments": {},
   "cell_type": "markdown",
   "metadata": {},
   "source": [
    "### Processing text"
   ]
  },
  {
   "cell_type": "code",
   "execution_count": 10,
   "metadata": {},
   "outputs": [],
   "source": [
    "def preprocess_text(text):\n",
    "    # Remove http / https links\n",
    "    text = re.sub(r'http\\S+|https\\S+', '', text)\n",
    "    # Convert to lowercase\n",
    "    text = text.lower()\n",
    "    # Remove punctuation\n",
    "    text = text.translate(str.maketrans('', '', string.punctuation))\n",
    "    # Remove numbers\n",
    "    text = re.sub(r'\\d+', '', text)\n",
    "    # Remove stopwords\n",
    "    text = ' '.join(word for word in text.split() if word not in stoplist)\n",
    "    # Remove extra whitespaces\n",
    "    text = re.sub(r'\\s+', ' ', text).strip()\n",
    "\n",
    "    return text"
   ]
  },
  {
   "cell_type": "code",
   "execution_count": 11,
   "metadata": {},
   "outputs": [],
   "source": [
    "def preprocess_sent(text):\n",
    "    if text == -1:\n",
    "        text = 0\n",
    "    return text"
   ]
  },
  {
   "cell_type": "code",
   "execution_count": 12,
   "metadata": {},
   "outputs": [],
   "source": [
    "balanced_train_df['Text'] = balanced_train_df['Text'].apply(preprocess_text)\n",
    "balanced_train_df['Sentiment'] = balanced_train_df['Sentiment'].apply(preprocess_sent)"
   ]
  },
  {
   "cell_type": "code",
   "execution_count": 13,
   "metadata": {},
   "outputs": [
    {
     "data": {
      "text/html": [
       "<div>\n",
       "<style scoped>\n",
       "    .dataframe tbody tr th:only-of-type {\n",
       "        vertical-align: middle;\n",
       "    }\n",
       "\n",
       "    .dataframe tbody tr th {\n",
       "        vertical-align: top;\n",
       "    }\n",
       "\n",
       "    .dataframe thead th {\n",
       "        text-align: right;\n",
       "    }\n",
       "</style>\n",
       "<table border=\"1\" class=\"dataframe\">\n",
       "  <thead>\n",
       "    <tr style=\"text-align: right;\">\n",
       "      <th></th>\n",
       "      <th>Sentiment</th>\n",
       "      <th>Text</th>\n",
       "    </tr>\n",
       "  </thead>\n",
       "  <tbody>\n",
       "    <tr>\n",
       "      <th>0</th>\n",
       "      <td>0</td>\n",
       "      <td>runway renovations airport prevent seeing tayl...</td>\n",
       "    </tr>\n",
       "    <tr>\n",
       "      <th>1</th>\n",
       "      <td>0</td>\n",
       "      <td>twatsn stupid twilight vampire real ones dont ...</td>\n",
       "    </tr>\n",
       "    <tr>\n",
       "      <th>2</th>\n",
       "      <td>0</td>\n",
       "      <td>maricruzannette first time heard twilight assu...</td>\n",
       "    </tr>\n",
       "    <tr>\n",
       "      <th>3</th>\n",
       "      <td>0</td>\n",
       "      <td>terrygilliam sat daughter watched monkeys chan...</td>\n",
       "    </tr>\n",
       "    <tr>\n",
       "      <th>4</th>\n",
       "      <td>0</td>\n",
       "      <td>foxnews administratio living twilight zone may...</td>\n",
       "    </tr>\n",
       "    <tr>\n",
       "      <th>...</th>\n",
       "      <td>...</td>\n",
       "      <td>...</td>\n",
       "    </tr>\n",
       "    <tr>\n",
       "      <th>46835</th>\n",
       "      <td>1</td>\n",
       "      <td>gonna record ciarans mash fleetwood mac songs ...</td>\n",
       "    </tr>\n",
       "    <tr>\n",
       "      <th>46836</th>\n",
       "      <td>1</td>\n",
       "      <td>pearl may bug shit right fleetwood mac vinyl</td>\n",
       "    </tr>\n",
       "    <tr>\n",
       "      <th>46837</th>\n",
       "      <td>1</td>\n",
       "      <td>friday night got new red lipstick put nowhere ...</td>\n",
       "    </tr>\n",
       "    <tr>\n",
       "      <th>46838</th>\n",
       "      <td>1</td>\n",
       "      <td>friday nite lineup recommences tonight p pstfl...</td>\n",
       "    </tr>\n",
       "    <tr>\n",
       "      <th>46839</th>\n",
       "      <td>1</td>\n",
       "      <td>sat watching sun set large glass wine pack mar...</td>\n",
       "    </tr>\n",
       "  </tbody>\n",
       "</table>\n",
       "<p>46840 rows × 2 columns</p>\n",
       "</div>"
      ],
      "text/plain": [
       "       Sentiment                                               Text\n",
       "0              0  runway renovations airport prevent seeing tayl...\n",
       "1              0  twatsn stupid twilight vampire real ones dont ...\n",
       "2              0  maricruzannette first time heard twilight assu...\n",
       "3              0  terrygilliam sat daughter watched monkeys chan...\n",
       "4              0  foxnews administratio living twilight zone may...\n",
       "...          ...                                                ...\n",
       "46835          1  gonna record ciarans mash fleetwood mac songs ...\n",
       "46836          1       pearl may bug shit right fleetwood mac vinyl\n",
       "46837          1  friday night got new red lipstick put nowhere ...\n",
       "46838          1  friday nite lineup recommences tonight p pstfl...\n",
       "46839          1  sat watching sun set large glass wine pack mar...\n",
       "\n",
       "[46840 rows x 2 columns]"
      ]
     },
     "execution_count": 13,
     "metadata": {},
     "output_type": "execute_result"
    }
   ],
   "source": [
    "balanced_train_df"
   ]
  },
  {
   "cell_type": "code",
   "execution_count": 14,
   "metadata": {},
   "outputs": [],
   "source": [
    "# Save the DataFrame as a CSV file for viewing\n",
    "balanced_train_df.to_csv('balanced_train_df.csv', sep=' ', index=False)"
   ]
  },
  {
   "cell_type": "code",
   "execution_count": 14,
   "metadata": {},
   "outputs": [],
   "source": [
    "# Load saved csv to df\n",
    "balanced_train_df = pd.read_csv('balanced_train_df.csv', sep=' ')"
   ]
  },
  {
   "cell_type": "code",
   "execution_count": 18,
   "metadata": {},
   "outputs": [
    {
     "name": "stdout",
     "output_type": "stream",
     "text": [
      "3873\n"
     ]
    }
   ],
   "source": [
    "print(balanced_train_df.Text.str.len().max())"
   ]
  }
 ],
 "metadata": {
  "kernelspec": {
   "display_name": "DL",
   "language": "python",
   "name": "python3"
  },
  "language_info": {
   "codemirror_mode": {
    "name": "ipython",
    "version": 3
   },
   "file_extension": ".py",
   "mimetype": "text/x-python",
   "name": "python",
   "nbconvert_exporter": "python",
   "pygments_lexer": "ipython3",
   "version": "3.8.13"
  },
  "orig_nbformat": 4
 },
 "nbformat": 4,
 "nbformat_minor": 2
}
