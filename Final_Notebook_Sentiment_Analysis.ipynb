{
 "cells": [
  {
   "attachments": {},
   "cell_type": "markdown",
   "metadata": {},
   "source": [
    "### Import libraries"
   ]
  },
  {
   "cell_type": "code",
   "execution_count": 1,
   "metadata": {},
   "outputs": [],
   "source": [
    "import pandas as pd\n",
    "import tensorflow as tf\n",
    "from tensorflow import keras\n",
    "from transformers import BertTokenizer, TFBertForSequenceClassification\n",
    "from sklearn.model_selection import train_test_split\n",
    "import numpy as np\n",
    "\n",
    "import re, string\n",
    "\n",
    "# Set GPU memory growth\n",
    "gpus = tf.config.experimental.list_physical_devices(\"GPU\")\n",
    "for gpu in gpus:\n",
    "    tf.config.experimental.set_memory_growth(gpu, True)\n",
    "\n",
    "#Import stopwords library\n",
    "from nltk.corpus import stopwords\n",
    "stoplist = set(stopwords.words(\"english\"))\n",
    "\n",
    "# Load the BERT Tokenizer\n",
    "tokenizer = BertTokenizer.from_pretrained(\"bert-base-uncased\")\n",
    "\n",
    "# Libraries for api\n",
    "import requests\n",
    "import json\n",
    "import re\n",
    "import string"
   ]
  },
  {
   "attachments": {},
   "cell_type": "markdown",
   "metadata": {},
   "source": [
    "### Load the dataset for processing"
   ]
  },
  {
   "cell_type": "code",
   "execution_count": 4,
   "metadata": {},
   "outputs": [],
   "source": [
    "#Load dataset saved in csv file\n",
    "df = pd.read_csv(\"balanced_train_df.csv\", delimiter = \" \")\n",
    "\n",
    "#Split the DF into training and validation sets\n",
    "train_df, val_test_df = train_test_split(df, test_size=0.4, random_state=42)\n",
    "val_df, test_df = train_test_split(val_test_df, test_size=0.375, random_state=42)\n",
    "\n",
    "#Tokenize all text data\n",
    "\n",
    "#Convert 'text' column to list and tokenize\n",
    "train_texts = train_df[\"Text\"].tolist()\n",
    "val_texts = val_df[\"Text\"].tolist()\n",
    "test_texts = test_df[\"Text\"].tolist()\n",
    "\n",
    "train_encodings = tokenizer(train_texts, truncation=True, padding=True, max_length=18)\n",
    "val_encodings = tokenizer(val_texts, truncation=True, padding=True, max_length=18)\n",
    "test_encodings = tokenizer(test_texts, truncation=True, padding=True, max_length=18)"
   ]
  },
  {
   "cell_type": "code",
   "execution_count": 5,
   "metadata": {},
   "outputs": [
    {
     "name": "stdout",
     "output_type": "stream",
     "text": [
      "count    46840.000000\n",
      "mean        11.815158\n",
      "std          4.855269\n",
      "min          2.000000\n",
      "25%         10.000000\n",
      "50%         12.000000\n",
      "75%         14.000000\n",
      "max        595.000000\n",
      "Name: Text, dtype: float64\n"
     ]
    }
   ],
   "source": [
    "#get a description of length of texts\n",
    "text_lengths = df['Text'].apply(lambda x: len(x.split()))\n",
    "print(text_lengths.describe())"
   ]
  },
  {
   "attachments": {},
   "cell_type": "markdown",
   "metadata": {},
   "source": [
    "### Create Tensorflow datasets from encoded data and its sentiment value"
   ]
  },
  {
   "cell_type": "code",
   "execution_count": 18,
   "metadata": {},
   "outputs": [],
   "source": [
    "# Create train TF dataset from encoded data\n",
    "train_dataset = tf.data.Dataset.from_tensor_slices((\n",
    "    dict(train_encodings),\n",
    "    train_df['Sentiment'].tolist()\n",
    "))\n",
    "\n",
    "val_dataset = tf.data.Dataset.from_tensor_slices((\n",
    "    dict(val_encodings),\n",
    "    val_df[\"Sentiment\"].tolist()\n",
    "))\n",
    "\n",
    "test_dataset = tf.data.Dataset.from_tensor_slices((\n",
    "    dict(test_encodings),\n",
    "    test_df[\"Sentiment\"].tolist()\n",
    "))"
   ]
  },
  {
   "attachments": {},
   "cell_type": "markdown",
   "metadata": {},
   "source": [
    "### Define model to train and compile it"
   ]
  },
  {
   "cell_type": "code",
   "execution_count": null,
   "metadata": {},
   "outputs": [],
   "source": [
    "# # Download model online from huggingface\n",
    "# bert_model = TFBertForSequenceClassification.from_pretrained(\"bert-base-uncased\", num_labels=2)\n",
    "\n",
    "# bert_model.compile(\n",
    "#     optimizer=keras.optimizers.Adam(learning_rate=2e-5),\n",
    "#     loss=keras.losses.SparseCategoricalCrossentropy(from_logits=True),\n",
    "#     metrics=[keras.metrics.SparseCategoricalAccuracy(\"accuracy\")]\n",
    "# )\n",
    "\n",
    "# bert_model.fit(\n",
    "#     train_dataset.shuffle(1000).batch(64),\n",
    "#     validation_data=val_dataset.batch(64),\n",
    "#     epochs=5\n",
    "# )"
   ]
  },
  {
   "cell_type": "code",
   "execution_count": 25,
   "metadata": {},
   "outputs": [],
   "source": [
    "# #Evaluate trained model on test dataset\n",
    "# test_loss, test_accuracy = bert_model.evaluate(test_dataset.batch(64))\n",
    "\n",
    "# print(f\"Test Loss: {test_loss}\")\n",
    "# print(f\"Test Accuracy: {test_accuracy}\")"
   ]
  },
  {
   "cell_type": "code",
   "execution_count": null,
   "metadata": {},
   "outputs": [],
   "source": [
    "# #Save model\n",
    "# bert_model.save_pretrained(r\"D:\\Coding\\Twitter_Sentimental_Analysis\\My_trained_bert_model\")"
   ]
  },
  {
   "cell_type": "code",
   "execution_count": 2,
   "metadata": {},
   "outputs": [
    {
     "name": "stderr",
     "output_type": "stream",
     "text": [
      "All model checkpoint layers were used when initializing TFBertForSequenceClassification.\n",
      "\n",
      "All the layers of TFBertForSequenceClassification were initialized from the model checkpoint at D:\\Coding\\Twitter_Sentimental_Analysis\\My_trained_bert_model.\n",
      "If your task is similar to the task the model of the checkpoint was trained on, you can already use TFBertForSequenceClassification for predictions without further training.\n"
     ]
    }
   ],
   "source": [
    "#Load locally saved model\n",
    "bert_model = TFBertForSequenceClassification.from_pretrained(r\"D:\\Coding\\Twitter_Sentimental_Analysis\\My_trained_bert_model\")"
   ]
  },
  {
   "attachments": {},
   "cell_type": "markdown",
   "metadata": {},
   "source": [
    "### Test model on a single text"
   ]
  },
  {
   "cell_type": "code",
   "execution_count": 26,
   "metadata": {},
   "outputs": [],
   "source": [
    "#Preprocess text before predicting on it\n",
    "\n",
    "def preprocess_text(text):\n",
    "    # Remove http / https links\n",
    "    text = re.sub(r'http\\S+|https\\S+', '', text)\n",
    "    # Convert to lowercase\n",
    "    text = text.lower()\n",
    "    # Remove punctuation\n",
    "    text = text.translate(str.maketrans('', '', string.punctuation))\n",
    "    # Remove numbers\n",
    "    text = re.sub(r'\\d+', '', text)\n",
    "    # Remove stopwords\n",
    "    text = ' '.join(word for word in text.split() if word not in stoplist)\n",
    "    # Remove extra whitespaces\n",
    "    text = re.sub(r'\\s+', ' ', text).strip()\n",
    "\n",
    "    return text"
   ]
  },
  {
   "cell_type": "code",
   "execution_count": 32,
   "metadata": {},
   "outputs": [
    {
     "name": "stdout",
     "output_type": "stream",
     "text": [
      "1/1 [==============================] - 0s 109ms/step\n",
      "Predicted sentiment: Negative\n",
      "Confidence level: 0.9916289\n"
     ]
    }
   ],
   "source": [
    "#Define the custom string input\n",
    "input_text = \"I hate you\"\n",
    "\n",
    "#Preprocess input text\n",
    "cleaned_text = preprocess_text(input_text)\n",
    "\n",
    "#Tokenize cleaned text\n",
    "encoded_input = tokenizer(\n",
    "    cleaned_text,\n",
    "    max_length=18,\n",
    "    padding=\"max_length\",\n",
    "    truncation=True,\n",
    "    return_tensors='tf'\n",
    ")\n",
    "\n",
    "#Get text tensor values\n",
    "input_ids = encoded_input[\"input_ids\"]\n",
    "attention_mask = encoded_input[\"attention_mask\"]\n",
    "token_type_ids = encoded_input[\"token_type_ids\"]\n",
    "\n",
    "#Predict sentiment label for input\n",
    "predictions = bert_model.predict([input_ids, attention_mask, token_type_ids])\n",
    "logits = predictions.logits[0]\n",
    "probabilities = tf.nn.softmax(logits)\n",
    "predicted_label = tf.argmax(probabilities).numpy()\n",
    "confidence_level = np.max(probabilities)\n",
    "\n",
    "# Map the predicted label to its corresponding sentiment category\n",
    "sentiment_categories = [\"Negative\", \"Positive\"]\n",
    "predicted_sentiment = sentiment_categories[predicted_label]\n",
    "\n",
    "# Print the predicted sentiment and confidence level\n",
    "print(\"Predicted sentiment:\", predicted_sentiment)\n",
    "print(\"Confidence level:\", confidence_level)"
   ]
  },
  {
   "attachments": {},
   "cell_type": "markdown",
   "metadata": {},
   "source": [
    "### Creating API call for hosted model"
   ]
  },
  {
   "cell_type": "code",
   "execution_count": 3,
   "metadata": {},
   "outputs": [],
   "source": [
    "# Define URL for the API endpoint\n",
    "url = 'http://localhost:8501/v1/models/sentiment_analysis:predict'\n",
    "\n",
    "def predict_sentiment_api(text):\n",
    "    def make_prediction_api(instances):\n",
    "        data = json.dumps({\"signature_name\":\"serving_default\", \"instances\": instances})\n",
    "        headers = {\"content-type\": \"application/json\"}\n",
    "        json_response = requests.post(url, data=data, headers=headers)\n",
    "        predictions = json.loads(json_response.text)\n",
    "        return predictions\n",
    "    \n",
    "    #Clean input text\n",
    "    text = re.sub(r'http\\S+|https\\S+', '', text)\n",
    "    text = text.lower()\n",
    "    text = text.translate(str.maketrans('', '', string.punctuation))\n",
    "    text = re.sub(r'\\d+', '', text)\n",
    "    text = ' '.join(word for word in text.split() if word not in stoplist)\n",
    "    text = re.sub(r'\\s+', ' ', text).strip()\n",
    "\n",
    "    # Tokenize the cleaned text\n",
    "    encoded_input_api = tokenizer(\n",
    "        text,\n",
    "        max_length = 18,\n",
    "        padding=\"max_length\",\n",
    "        truncation = True,\n",
    "        return_tensors = 'tf'\n",
    "    )\n",
    "\n",
    "    # Get text tensor values\n",
    "    input_ids = encoded_input_api[\"input_ids\"]\n",
    "    attention_mask = encoded_input_api[\"attention_mask\"]\n",
    "    token_type_ids = encoded_input_api[\"token_type_ids\"]\n",
    "\n",
    "    # Prepare instance for API call\n",
    "    instances_api = [{\n",
    "        \"input_ids\": input_ids.numpy().tolist()[0],\n",
    "        \"attention_mask\": attention_mask.numpy().tolist()[0],\n",
    "        \"token_type_ids\": token_type_ids.numpy().tolist()[0]\n",
    "    }]\n",
    "\n",
    "\n",
    "    #Make api call\n",
    "    result_api = make_prediction_api(instances_api)\n",
    "\n",
    "    return result_api\n"
   ]
  },
  {
   "cell_type": "code",
   "execution_count": 4,
   "metadata": {},
   "outputs": [
    {
     "name": "stdout",
     "output_type": "stream",
     "text": [
      "Result from call:  {'predictions': [[3.4687202, -3.55189681]]}\n",
      "Predicted sentiment: Negative\n",
      "Confidence level: 0.99910754\n"
     ]
    }
   ],
   "source": [
    "# Define custom string input\n",
    "input_text_api = 'this is here, that is there, but i dont like it'\n",
    "\n",
    "# Make api call\n",
    "result_api = predict_sentiment_api(input_text_api)\n",
    "\n",
    "print(\"Result from call: \",result_api)\n",
    "logits = result_api['predictions'][0]\n",
    "probabilities = tf.nn.softmax(logits)\n",
    "predicted_label = tf.argmax(probabilities).numpy()\n",
    "confidence_level = np.max(probabilities)\n",
    "\n",
    "# Map the predicted label to its corresponding sentiment category\n",
    "sentiment_categories = [\"Negative\", \"Positive\"]\n",
    "predicted_sentiment = sentiment_categories[predicted_label]\n",
    "\n",
    "# Print the predicted sentiment and confidence level\n",
    "print(\"Predicted sentiment:\", predicted_sentiment)\n",
    "print(\"Confidence level:\", confidence_level)"
   ]
  }
 ],
 "metadata": {
  "kernelspec": {
   "display_name": "DL",
   "language": "python",
   "name": "python3"
  },
  "language_info": {
   "codemirror_mode": {
    "name": "ipython",
    "version": 3
   },
   "file_extension": ".py",
   "mimetype": "text/x-python",
   "name": "python",
   "nbconvert_exporter": "python",
   "pygments_lexer": "ipython3",
   "version": "3.8.13"
  },
  "orig_nbformat": 4
 },
 "nbformat": 4,
 "nbformat_minor": 2
}
